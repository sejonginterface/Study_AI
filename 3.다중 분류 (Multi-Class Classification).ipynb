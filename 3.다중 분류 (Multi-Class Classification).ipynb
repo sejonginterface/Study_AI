{
  "nbformat": 4,
  "nbformat_minor": 0,
  "metadata": {
    "colab": {
      "name": "Untitled3.ipynb",
      "provenance": [],
      "authorship_tag": "ABX9TyNdEL0zNXOumwNP1VsGilZt",
      "include_colab_link": true
    },
    "kernelspec": {
      "name": "python3",
      "display_name": "Python 3"
    }
  },
  "cells": [
    {
      "cell_type": "markdown",
      "metadata": {
        "id": "view-in-github",
        "colab_type": "text"
      },
      "source": [
        "<a href=\"https://colab.research.google.com/github/skyil7/SejongUniv_AI/blob/master/5.%EB%8B%A4%EC%A4%91%20%EB%B6%84%EB%A5%98%20(Multi-Class%20Classification).ipynb\" target=\"_parent\"><img src=\"https://colab.research.google.com/assets/colab-badge.svg\" alt=\"Open In Colab\"/></a>"
      ]
    },
    {
      "cell_type": "markdown",
      "metadata": {
        "id": "Rd0RDB6_mF2f",
        "colab_type": "text"
      },
      "source": [
        "# Multi-Class Classification\n",
        "클래스가 3개 이상인 경우 Softmax 함수를 이용하여 분류"
      ]
    },
    {
      "cell_type": "markdown",
      "metadata": {
        "id": "MfqKrtLBmFSz",
        "colab_type": "text"
      },
      "source": [
        "## Load Data"
      ]
    },
    {
      "cell_type": "code",
      "metadata": {
        "id": "crftV5RUyMWg",
        "colab_type": "code",
        "outputId": "1aabb10d-4f48-4add-abc3-0004b46a5604",
        "colab": {
          "base_uri": "https://localhost:8080/",
          "height": 122
        }
      },
      "source": [
        "import torch\n",
        "import torch.optim as optim\n",
        "\n",
        "torch.manual_seed(1)\n",
        "\n",
        "x_train = [[1, 2, 1, 1],\n",
        "           [2, 1, 3, 2],\n",
        "           [3, 1, 3, 4],\n",
        "           [4, 1, 5, 5],\n",
        "           [1, 7, 5, 5],\n",
        "           [1, 2, 5, 6],\n",
        "           [1, 6, 6, 6],\n",
        "           [1, 7, 7, 7]]\n",
        "y_train = [2, 2, 2, 1, 1, 1, 0, 0]\n",
        "\n",
        "x_train = torch.FloatTensor(x_train)\n",
        "y_train = torch.LongTensor(y_train)\n",
        "\n",
        "print(x_train[:5])\n",
        "print(y_train[:5])"
      ],
      "execution_count": 1,
      "outputs": [
        {
          "output_type": "stream",
          "text": [
            "tensor([[1., 2., 1., 1.],\n",
            "        [2., 1., 3., 2.],\n",
            "        [3., 1., 3., 4.],\n",
            "        [4., 1., 5., 5.],\n",
            "        [1., 7., 5., 5.]])\n",
            "tensor([2, 2, 2, 1, 1])\n"
          ],
          "name": "stdout"
        }
      ]
    },
    {
      "cell_type": "code",
      "metadata": {
        "id": "miaw_JqdbsWd",
        "colab_type": "code",
        "outputId": "410917f8-4f9a-428e-882e-bab63fc852a6",
        "colab": {
          "base_uri": "https://localhost:8080/",
          "height": 351
        }
      },
      "source": [
        "print(y_train)\n",
        "print(y_train.shape)\n",
        "print(y_train.unsqueeze(1)) # unsqueeze 함수는 인수로 받은 위치에 새로운 차원을 삽입한다.\n",
        "print(y_train.unsqueeze(1).shape)\n",
        "\n",
        "nb_class = 3\n",
        "nb_data = len(y_train)\n",
        "y_one_hot = torch.zeros(nb_data, nb_class)\n",
        "y_one_hot.scatter_(1, y_train.unsqueeze(1), 1)  # scatter(a,b,c): dimension a 에 대해 b에서 지정한 위치에 c 삽입\n",
        "                                                # 언더바(_)를 함수뒤에 붙이면 in-place operation, 바꿔치기 연산이 되는데, 연산의 결과를 바로 y_one_hot에 저장하는 것이다.\n",
        "                                                # (y_one_hot = y_one_hot.scatter.... 할 필요없이)\n",
        "\n",
        "print(y_one_hot)"
      ],
      "execution_count": 2,
      "outputs": [
        {
          "output_type": "stream",
          "text": [
            "tensor([2, 2, 2, 1, 1, 1, 0, 0])\n",
            "torch.Size([8])\n",
            "tensor([[2],\n",
            "        [2],\n",
            "        [2],\n",
            "        [1],\n",
            "        [1],\n",
            "        [1],\n",
            "        [0],\n",
            "        [0]])\n",
            "torch.Size([8, 1])\n",
            "tensor([[0., 0., 1.],\n",
            "        [0., 0., 1.],\n",
            "        [0., 0., 1.],\n",
            "        [0., 1., 0.],\n",
            "        [0., 1., 0.],\n",
            "        [0., 1., 0.],\n",
            "        [1., 0., 0.],\n",
            "        [1., 0., 0.]])\n"
          ],
          "name": "stdout"
        }
      ]
    },
    {
      "cell_type": "markdown",
      "metadata": {
        "id": "OTerh5sZo69T",
        "colab_type": "text"
      },
      "source": [
        "## Train Model"
      ]
    },
    {
      "cell_type": "code",
      "metadata": {
        "id": "GHSZppOfyp-n",
        "colab_type": "code",
        "outputId": "54746cb6-9199-40d7-b7e2-7c44549b0204",
        "colab": {
          "base_uri": "https://localhost:8080/",
          "height": 210
        }
      },
      "source": [
        "import torch.nn.functional as F # softmax가 포함된 클래스\n",
        "\n",
        "# 모델 초기화\n",
        "# feature 4개, 3개의 클래스\n",
        "nb_class = 3\n",
        "nb_data = len(y_train)\n",
        "\n",
        "W = torch.zeros((4, nb_class), requires_grad=True) # 3개의 클래스에 대한 4개의 Feature별 가중치\n",
        "b = torch.zeros(1, requires_grad=True) # 하나의 편향\n",
        "\n",
        "# optimizer 설정\n",
        "optimizer = optim.SGD([W, b], lr=0.01)\n",
        "nb_epochs = 1000\n",
        "for epoch in range(nb_epochs + 1):\n",
        "\n",
        "    # Cost 계산 (1)\n",
        "    hypothesis = F.softmax(x_train.matmul(W) + b, dim=1) # or .mm or @\n",
        "    \n",
        "    # cost 표현번 1번 예시\n",
        "    y_one_hot = torch.zeros(nb_data, nb_class)\n",
        "    y_one_hot.scatter_(1, y_train.unsqueeze(1), 1)\n",
        "    cost = (y_one_hot * -torch.log(F.softmax(hypothesis, dim=1))).sum(dim=1).mean()\n",
        "    \n",
        "    # cost 표현법 2번 예시\n",
        "    # cross_entropy를 사용하면 scatter 함수를 이용한 one_hot_encoding을 안해도 됨\n",
        "    # cost = F.cross_entropy((x_train.matmul(W) + b), y_train)\n",
        "\n",
        "    # cost로 H(x) 개선\n",
        "    optimizer.zero_grad()\n",
        "    cost.backward()\n",
        "    optimizer.step()\n",
        "\n",
        "    # 100번마다 로그 출력\n",
        "    if epoch % 100 == 0:\n",
        "        print('Epoch {:4d}/{} Cost: {:.6f}'.format(\n",
        "            epoch, nb_epochs, cost.item()\n",
        "        ))"
      ],
      "execution_count": 3,
      "outputs": [
        {
          "output_type": "stream",
          "text": [
            "Epoch    0/1000 Cost: 1.098612\n",
            "Epoch  100/1000 Cost: 1.036919\n",
            "Epoch  200/1000 Cost: 1.010905\n",
            "Epoch  300/1000 Cost: 0.991541\n",
            "Epoch  400/1000 Cost: 0.974942\n",
            "Epoch  500/1000 Cost: 0.959928\n",
            "Epoch  600/1000 Cost: 0.946149\n",
            "Epoch  700/1000 Cost: 0.933492\n",
            "Epoch  800/1000 Cost: 0.921898\n",
            "Epoch  900/1000 Cost: 0.911302\n",
            "Epoch 1000/1000 Cost: 0.901625\n"
          ],
          "name": "stdout"
        }
      ]
    },
    {
      "cell_type": "markdown",
      "metadata": {
        "id": "QixkNjHgpwHM",
        "colab_type": "text"
      },
      "source": [
        "## Evaluate Model"
      ]
    },
    {
      "cell_type": "code",
      "metadata": {
        "id": "QFcRqSOtyxNR",
        "colab_type": "code",
        "outputId": "d557d792-3419-430d-cb4e-19bc5a7fdb14",
        "colab": {
          "base_uri": "https://localhost:8080/",
          "height": 228
        }
      },
      "source": [
        "# 학습된 W,b를 통한 클래스 예측\n",
        "hypothesis = F.softmax(x_train.matmul(W) + b, dim=1) # or .mm or @\n",
        "predict = torch.argmax(hypothesis, dim=1)\n",
        "\n",
        "print(hypothesis)\n",
        "print(predict)\n",
        "print(y_train)\n",
        "\n",
        "\n",
        "# 정확도 계산 \n",
        "correct_prediction = predict.float() == y_train\n",
        "print(correct_prediction)\n",
        "accuracy = correct_prediction.sum().item() / len(correct_prediction)\n",
        "print('The model has an accuracy of {:2.2f}% for the training set.'.format(accuracy * 100))"
      ],
      "execution_count": 4,
      "outputs": [
        {
          "output_type": "stream",
          "text": [
            "tensor([[0.3633, 0.1321, 0.5046],\n",
            "        [0.1075, 0.3747, 0.5178],\n",
            "        [0.0338, 0.4811, 0.4851],\n",
            "        [0.0120, 0.5703, 0.4177],\n",
            "        [0.9002, 0.0161, 0.0838],\n",
            "        [0.1476, 0.7789, 0.0735],\n",
            "        [0.8375, 0.0747, 0.0878],\n",
            "        [0.8986, 0.0490, 0.0524]], grad_fn=<SoftmaxBackward>)\n",
            "tensor([2, 2, 2, 1, 0, 1, 0, 0])\n",
            "tensor([2, 2, 2, 1, 1, 1, 0, 0])\n",
            "tensor([ True,  True,  True,  True, False,  True,  True,  True])\n",
            "The model has an accuracy of 87.50% for the training set.\n"
          ],
          "name": "stdout"
        }
      ]
    }
  ]
}
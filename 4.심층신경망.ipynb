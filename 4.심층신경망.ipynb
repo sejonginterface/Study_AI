{
  "nbformat": 4,
  "nbformat_minor": 0,
  "metadata": {
    "colab": {
      "name": "8.심층신경망.ipynb",
      "provenance": [],
      "collapsed_sections": []
    },
    "kernelspec": {
      "name": "python3",
      "display_name": "Python 3"
    }
  },
  "cells": [
    {
      "cell_type": "markdown",
      "metadata": {
        "id": "vaU2pRqXqESs",
        "colab_type": "text"
      },
      "source": [
        "# Deep Neural Network (DNNs)\n",
        "MNIST Dataset Classficiation with DNN"
      ]
    },
    {
      "cell_type": "code",
      "metadata": {
        "id": "sZs_JS5GqD3v",
        "colab_type": "code",
        "colab": {}
      },
      "source": [
        "import torch\n",
        "import torchvision.datasets as dsets\n",
        "import torchvision.transforms as transforms\n",
        "from torch.utils.data import DataLoader\n",
        "import matplotlib.pyplot as plt\n",
        "import random"
      ],
      "execution_count": 0,
      "outputs": []
    },
    {
      "cell_type": "code",
      "metadata": {
        "id": "vSu0b7UZqSWa",
        "colab_type": "code",
        "colab": {}
      },
      "source": [
        "GPU = torch.cuda.is_available() \n",
        "device = torch.device(\"cuda\" if GPU else \"cpu\") # GPU 사용 가능하면 사용하고 아니면 CPU 사용"
      ],
      "execution_count": 0,
      "outputs": []
    },
    {
      "cell_type": "code",
      "metadata": {
        "id": "iFlS9aB3qdS_",
        "colab_type": "code",
        "colab": {}
      },
      "source": [
        "torch.manual_seed(1)\n",
        "if device == 'cuda':\n",
        "    torch.cuda.manual_seed_all(1)"
      ],
      "execution_count": 0,
      "outputs": []
    },
    {
      "cell_type": "markdown",
      "metadata": {
        "id": "v3TrMkiPqn8B",
        "colab_type": "text"
      },
      "source": [
        "## Load MNIST Dataset"
      ]
    },
    {
      "cell_type": "code",
      "metadata": {
        "id": "DY1b__-fqmPI",
        "colab_type": "code",
        "colab": {}
      },
      "source": [
        "mnist_train = dsets.MNIST(root='data/',\n",
        "                          train=True,\n",
        "                          transform=transforms.ToTensor(),\n",
        "                          download=True)\n",
        "mnist_test = dsets.MNIST(root='data/',\n",
        "                         train=False,\n",
        "                         transform=transforms.ToTensor(),\n",
        "                         download=True)"
      ],
      "execution_count": 0,
      "outputs": []
    },
    {
      "cell_type": "code",
      "metadata": {
        "id": "0SnG76TJqxUj",
        "colab_type": "code",
        "colab": {}
      },
      "source": [
        "data_loader = DataLoader(dataset=mnist_train,\n",
        "                         batch_size=100,\n",
        "                         shuffle=True,\n",
        "                         drop_last=True) # Drop Last Batch"
      ],
      "execution_count": 0,
      "outputs": []
    },
    {
      "cell_type": "markdown",
      "metadata": {
        "id": "FRIkMK9nrFCC",
        "colab_type": "text"
      },
      "source": [
        "## DNN Model\n",
        "| Input | 784 |\n",
        "|--|--|\n",
        "| Dense | 512 |\n",
        "| ReLU |  |\n",
        "| Dense | 512 |\n",
        "| Output | 10 |"
      ]
    },
    {
      "cell_type": "code",
      "metadata": {
        "id": "jat07t9IrHfv",
        "colab_type": "code",
        "outputId": "ee78e709-4f28-4243-dc97-43afe72888fc",
        "colab": {
          "base_uri": "https://localhost:8080/",
          "height": 111
        }
      },
      "source": [
        "l1 = torch.nn.Linear((28*28), 512).to(device)\n",
        "l2 = torch.nn.Linear(512, 10).to(device)\n",
        "relu = torch.nn.ReLU()\n",
        "\n",
        "model = torch.nn.Sequential(l1, relu, l2)\n",
        "model"
      ],
      "execution_count": 0,
      "outputs": [
        {
          "output_type": "execute_result",
          "data": {
            "text/plain": [
              "Sequential(\n",
              "  (0): Linear(in_features=784, out_features=512, bias=True)\n",
              "  (1): ReLU()\n",
              "  (2): Linear(in_features=512, out_features=10, bias=True)\n",
              ")"
            ]
          },
          "metadata": {
            "tags": []
          },
          "execution_count": 6
        }
      ]
    },
    {
      "cell_type": "markdown",
      "metadata": {
        "id": "sCPzWgSLsucr",
        "colab_type": "text"
      },
      "source": [
        "## Train Model"
      ]
    },
    {
      "cell_type": "code",
      "metadata": {
        "id": "Nd4Pa7gZsQjY",
        "colab_type": "code",
        "colab": {}
      },
      "source": [
        "cost = torch.nn.CrossEntropyLoss().to(device) # Built in Softmax Function\n",
        "optimizer = torch.optim.SGD(model.parameters(), lr=0.1)"
      ],
      "execution_count": 0,
      "outputs": []
    },
    {
      "cell_type": "code",
      "metadata": {
        "id": "SU3xQ2R0tGQJ",
        "colab_type": "code",
        "outputId": "12fd388a-5169-4d6b-da60-97e09ca3619b",
        "colab": {
          "base_uri": "https://localhost:8080/",
          "height": 111
        }
      },
      "source": [
        "epochs = 20\n",
        "for epoch in range(1, epochs+1):\n",
        "    avg_cost = 0\n",
        "    total_batch = len(data_loader)\n",
        "\n",
        "    for x, y in data_loader:    # batch loop\n",
        "        x = x.view(-1, 28*28).to(device)\n",
        "        y = y.to(device)\n",
        "\n",
        "        optimizer.zero_grad()\n",
        "        hypothesis = model(x)\n",
        "        cost_val = cost(hypothesis, y)\n",
        "        cost_val.backward()\n",
        "        optimizer.step()\n",
        "\n",
        "        avg_cost += cost_val\n",
        "    \n",
        "    avg_cost /= total_batch\n",
        "\n",
        "    if epoch % 5 == 1 or epoch == epochs:\n",
        "        print('Epoch {:4d}/{} Cost: {:.6f}'.format(epoch, epochs, avg_cost.item()))"
      ],
      "execution_count": 0,
      "outputs": [
        {
          "output_type": "stream",
          "text": [
            "Epoch    1/20 Cost: 0.503713\n",
            "Epoch    6/20 Cost: 0.121553\n",
            "Epoch   11/20 Cost: 0.070358\n",
            "Epoch   16/20 Cost: 0.047347\n",
            "Epoch   20/20 Cost: 0.035963\n"
          ],
          "name": "stdout"
        }
      ]
    },
    {
      "cell_type": "markdown",
      "metadata": {
        "id": "tbGC7MbHulXu",
        "colab_type": "text"
      },
      "source": [
        "## Evaluate Model"
      ]
    },
    {
      "cell_type": "code",
      "metadata": {
        "id": "K4VM9AxauV9K",
        "colab_type": "code",
        "outputId": "97731ca7-e06c-46fb-b14e-a07e834a1856",
        "colab": {
          "base_uri": "https://localhost:8080/",
          "height": 396
        }
      },
      "source": [
        "with torch.no_grad(): # Don't Calculate Gradient\n",
        "    x_test = mnist_test.test_data.view(-1, 28 * 28).float().to(device)\n",
        "    y_test = mnist_test.test_labels.to(device)\n",
        "\n",
        "    pred = model(x_test)\n",
        "    correct_pred = torch.argmax(pred, 1) == y_test\n",
        "    acc = correct_pred.float().mean()\n",
        "    print('Accuracy:',acc.item())\n",
        "\n",
        "    r = random.randint(0, len(mnist_test) - 1)\n",
        "    X_single_data = mnist_test.test_data[r].view(-1, 28 * 28).float().to(device)\n",
        "    Y_single_data = mnist_test.test_labels[r].to(device)\n",
        "\n",
        "    print('Label: ', Y_single_data.item())\n",
        "    single_prediction = model(X_single_data)\n",
        "    print('Prediction: ', torch.argmax(single_prediction, 1).item())\n",
        "\n",
        "    plt.imshow(mnist_test.test_data[r:r + 1].view(28, 28), cmap='Greys', interpolation='nearest')\n",
        "    plt.show()"
      ],
      "execution_count": 0,
      "outputs": [
        {
          "output_type": "stream",
          "text": [
            "/usr/local/lib/python3.6/dist-packages/torchvision/datasets/mnist.py:60: UserWarning: test_data has been renamed data\n",
            "  warnings.warn(\"test_data has been renamed data\")\n",
            "/usr/local/lib/python3.6/dist-packages/torchvision/datasets/mnist.py:50: UserWarning: test_labels has been renamed targets\n",
            "  warnings.warn(\"test_labels has been renamed targets\")\n"
          ],
          "name": "stderr"
        },
        {
          "output_type": "stream",
          "text": [
            "Accuracy: 0.977400004863739\n",
            "Label:  5\n",
            "Prediction:  5\n"
          ],
          "name": "stdout"
        },
        {
          "output_type": "display_data",
          "data": {
            "image/png": "[encoded data removed]",
            "text/plain": [
              "<Figure size 432x288 with 1 Axes>"
            ]
          },
          "metadata": {
            "tags": [],
            "needs_background": "light"
          }
        }
      ]
    },
    {
      "cell_type": "markdown",
      "metadata": {
        "id": "rGeA7JLcvnjL",
        "colab_type": "text"
      },
      "source": [
        "### Reference\n",
        "- [PyTorch로 시작하는 딥러닝 입문](https://wikidocs.net/60324)"
      ]
    }
  ]
}
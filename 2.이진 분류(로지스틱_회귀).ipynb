{
  "nbformat": 4,
  "nbformat_minor": 0,
  "metadata": {
    "colab": {
      "name": "4.로지스틱 회귀",
      "provenance": [],
      "authorship_tag": "ABX9TyMzb+5VOLiVKiBjuvU3yVJo",
      "include_colab_link": true
    },
    "kernelspec": {
      "name": "python3",
      "display_name": "Python 3"
    }
  },
  "cells": [
    {
      "cell_type": "markdown",
      "metadata": {
        "id": "view-in-github",
        "colab_type": "text"
      },
      "source": [
        "<a href=\"https://colab.research.google.com/github/skyil7/SejongUniv_AI/blob/master/4_%EB%A1%9C%EC%A7%80%EC%8A%A4%ED%8B%B1_%ED%9A%8C%EA%B7%80.ipynb\" target=\"_parent\"><img src=\"https://colab.research.google.com/assets/colab-badge.svg\" alt=\"Open In Colab\"/></a>"
      ]
    },
    {
      "cell_type": "markdown",
      "metadata": {
        "id": "yLWxB9XMk28U",
        "colab_type": "text"
      },
      "source": [
        "# Logistic Regression"
      ]
    },
    {
      "cell_type": "markdown",
      "metadata": {
        "id": "dq2UAIVClurv",
        "colab_type": "text"
      },
      "source": [
        "## Hypothesis\n",
        "$$ H(X) = \\frac{1}{1+e^{-WX}} $$"
      ]
    },
    {
      "cell_type": "markdown",
      "metadata": {
        "id": "6ZbwZhcZl8Rc",
        "colab_type": "text"
      },
      "source": [
        "## Cost\n",
        "$$ cost(W) = -\\frac{1}{m}\\Sigma ylog(H(x)) + (1 - y)(log(1 - H(x)) $$\n",
        "- $Log$ loss for binary classification\n",
        "  - If $ y \\simeq H(x)$, cost converges to 0.\n",
        "  - If $ y \\neq H(x)$, cost converges to $\\infty$"
      ]
    },
    {
      "cell_type": "markdown",
      "metadata": {
        "id": "ikgnr9jwnR7X",
        "colab_type": "text"
      },
      "source": [
        "## Weight Update via Gradient Descent\n",
        "$$ W := W - lr\\cdot \\frac{\\partial}{\\partial W}cost(W)$$"
      ]
    },
    {
      "cell_type": "markdown",
      "metadata": {
        "id": "2lG1GqGEn05x",
        "colab_type": "text"
      },
      "source": [
        "# Prepare Data"
      ]
    },
    {
      "cell_type": "code",
      "metadata": {
        "id": "ZFcK8GO2lv0q",
        "colab_type": "code",
        "colab": {
          "base_uri": "https://localhost:8080/",
          "height": 167
        },
        "outputId": "efd628d6-86cb-4fa1-e87e-4fe691097ae0"
      },
      "source": [
        "import torch\n",
        "import torch.optim as optim\n",
        "\n",
        "torch.manual_seed(1)\n",
        "\n",
        "x_data = [[1, 2], [2, 3], [3, 1], [4, 3], [5, 3], [6, 2]]\n",
        "y_data = [[0], [0], [0], [1], [1], [1]]\n",
        "\n",
        "x_train = torch.FloatTensor(x_data)\n",
        "y_train = torch.FloatTensor(y_data)\n",
        "\n",
        "print(x_train)\n",
        "print(x_train.shape)\n",
        "print(y_train.shape)"
      ],
      "execution_count": 1,
      "outputs": [
        {
          "output_type": "stream",
          "text": [
            "tensor([[1., 2.],\n",
            "        [2., 3.],\n",
            "        [3., 1.],\n",
            "        [4., 3.],\n",
            "        [5., 3.],\n",
            "        [6., 2.]])\n",
            "torch.Size([6, 2])\n",
            "torch.Size([6, 1])\n"
          ],
          "name": "stdout"
        }
      ]
    },
    {
      "cell_type": "markdown",
      "metadata": {
        "id": "36fb8seLoNer",
        "colab_type": "text"
      },
      "source": [
        "# Train Model"
      ]
    },
    {
      "cell_type": "code",
      "metadata": {
        "id": "lk6PmgvYoXPP",
        "colab_type": "code",
        "colab": {
          "base_uri": "https://localhost:8080/",
          "height": 223
        },
        "outputId": "e7a272c0-c279-486a-a686-b9c2dac5d382"
      },
      "source": [
        "W = torch.ones((2, 1), requires_grad=True)\n",
        "b = torch.zeros(1, requires_grad=True)\n",
        "\n",
        "optimizer = optim.SGD([W, b], lr=1)\n",
        "\n",
        "epochs = 1000\n",
        "for epoch in range(epochs + 1):\n",
        "    # Calculate Cost\n",
        "    hypothesis = torch.sigmoid(x_train.matmul(W) + b)\n",
        "    cost = -(y_train * torch.log(hypothesis) +\n",
        "             (1 - y_train) * torch.log(1 - hypothesis)).mean()\n",
        "    \n",
        "    # Train\n",
        "    optimizer.zero_grad()\n",
        "    cost.backward()\n",
        "    optimizer.step()\n",
        "\n",
        "    if epoch % 100 == 0:\n",
        "        print('Epoch {:4d}/{} Cost: {:.6f}'.format(\n",
        "            epoch, epochs, cost.item()\n",
        "        ))"
      ],
      "execution_count": 2,
      "outputs": [
        {
          "output_type": "stream",
          "text": [
            "Epoch    0/1000 Cost: 2.012506\n",
            "Epoch  100/1000 Cost: 0.131138\n",
            "Epoch  200/1000 Cost: 0.079377\n",
            "Epoch  300/1000 Cost: 0.057256\n",
            "Epoch  400/1000 Cost: 0.044908\n",
            "Epoch  500/1000 Cost: 0.036998\n",
            "Epoch  600/1000 Cost: 0.031483\n",
            "Epoch  700/1000 Cost: 0.027413\n",
            "Epoch  800/1000 Cost: 0.024282\n",
            "Epoch  900/1000 Cost: 0.021798\n",
            "Epoch 1000/1000 Cost: 0.019778\n"
          ],
          "name": "stdout"
        }
      ]
    },
    {
      "cell_type": "markdown",
      "metadata": {
        "id": "PCDz7KX1prB1",
        "colab_type": "text"
      },
      "source": [
        "# Evaluate Model"
      ]
    },
    {
      "cell_type": "code",
      "metadata": {
        "id": "jQ560dl9pad4",
        "colab_type": "code",
        "colab": {
          "base_uri": "https://localhost:8080/",
          "height": 129
        },
        "outputId": "004354ea-69e8-4fef-c405-7f8bd7213949"
      },
      "source": [
        "hypothesis = torch.sigmoid(x_train.mm(W) + b)\n",
        "\n",
        "prediction = hypothesis >= torch.FloatTensor([0.5])\n",
        "\n",
        "correct_prediction = prediction.float() == y_train\n",
        "print(correct_prediction)"
      ],
      "execution_count": 3,
      "outputs": [
        {
          "output_type": "stream",
          "text": [
            "tensor([[True],\n",
            "        [True],\n",
            "        [True],\n",
            "        [True],\n",
            "        [True],\n",
            "        [True]])\n"
          ],
          "name": "stdout"
        }
      ]
    },
    {
      "cell_type": "code",
      "metadata": {
        "id": "iBnVXUDiqDAl",
        "colab_type": "code",
        "colab": {
          "base_uri": "https://localhost:8080/",
          "height": 36
        },
        "outputId": "b1f3990a-caee-457b-a850-40ee3611b0ba"
      },
      "source": [
        "accuracy = correct_prediction.sum().item() / len(correct_prediction)\n",
        "print('The model has an accuracy of {:2.2f}% for the training set.'.format(accuracy * 100))"
      ],
      "execution_count": 4,
      "outputs": [
        {
          "output_type": "stream",
          "text": [
            "The model has an accuracy of 100.00% for the training set.\n"
          ],
          "name": "stdout"
        }
      ]
    },
    {
      "cell_type": "code",
      "metadata": {
        "id": "v70dHimtqMx1",
        "colab_type": "code",
        "colab": {
          "base_uri": "https://localhost:8080/",
          "height": 36
        },
        "outputId": "a4b8a338-1eff-4c6a-ad95-7fc8e1c0d7dc"
      },
      "source": [
        "XX = [[100, 5]]\n",
        "xx = torch.FloatTensor(XX);\n",
        "hypothesis = torch.sigmoid(xx.matmul(W) + b)\n",
        "prediction = hypothesis >= torch.FloatTensor([0.5])\n",
        "print(prediction)"
      ],
      "execution_count": 5,
      "outputs": [
        {
          "output_type": "stream",
          "text": [
            "tensor([[True]])\n"
          ],
          "name": "stdout"
        }
      ]
    }
  ]
}
